{
 "cells": [
  {
   "cell_type": "markdown",
   "metadata": {},
   "source": [
    "# Real Time BPTT\n",
    "\n",
    "#### reference: Gradient-Based Learning Algorithms for Recurrent Connectionist Networks  -- Ronald J.Williams"
   ]
  },
  {
   "cell_type": "code",
   "execution_count": 2,
   "metadata": {
    "collapsed": true
   },
   "outputs": [],
   "source": [
    "import numpy as np\n",
    "\n",
    "f = lambda x : 1./(1+np.exp(-x))\n",
    "df = lambda x : f(x) * (1- f(x))\n",
    "\n",
    "def fc(W_x, W_h, x, h):\n",
    "    net[:] = np.dot(W_x, x) + np.dot(W_h, h)\n",
    "    h[:] = f(net)\n",
    "    return net, h\n",
    "\n",
    "bp = lambda delta, W_h, h : df(h) * np.dot(W_h.T, delta)\n",
    "\n",
    "\n",
    "\n",
    "# Reber Grammar\n",
    "import random\n",
    "\n",
    "TRANSITIONS = [\n",
    "    [('T', 1), ('P', 2)],  # 0\n",
    "    [('S', 1), ('X', 3)],  # 1\n",
    "    [('T', 2), ('V', 4)],  # 2\n",
    "    [('X', 2), ('S', 5)],  # 3\n",
    "    [('V', 5), ('P', 3)],  # 4\n",
    "    [('E', 6)],  # 5， 6 terminal state\n",
    "]\n",
    "\n",
    "\n",
    "def make_reber():\n",
    "    out = 'B'\n",
    "    state = 0\n",
    "    while state != 6:\n",
    "        ts = random.choice(TRANSITIONS[state])\n",
    "        state = ts[1]\n",
    "        out += ts[0]\n",
    "    return out\n",
    "\n",
    "\n",
    "alphabet = ['B', 'T', 'P', 'S', 'X', 'V', 'E']\n",
    "\n",
    "\n",
    "def string_to_one_hot_array(sequence_string):\n",
    "    one_hot_representation = np.zeros((len(sequence_string), len(alphabet)), dtype=np.uint8)\n",
    "    next_representation = np.zeros((len(sequence_string), len(alphabet)), dtype=np.uint8)\n",
    "    state = 0\n",
    "    for idx, s in enumerate(sequence_string):\n",
    "        one_hot_representation[idx, alphabet.index(s)] = 1\n",
    "        if state != 6:\n",
    "            tss = TRANSITIONS[state]\n",
    "            for ts in tss:\n",
    "                next_representation[idx, alphabet.index(ts[0])] = 1\n",
    "                if ts[0] == sequence_string[idx + 1]: state = ts[1]\n",
    "\n",
    "    return one_hot_representation, next_representation\n",
    "\n",
    "\n",
    "def one_hot_array_to_string(ont_hot_representation, alphabet):\n",
    "    out = ''\n",
    "    seq_arg = ont_hot_representation.argmax(axis=-1)\n",
    "    for i in seq_arg:\n",
    "        out += alphabet[i]\n",
    "    return out\n",
    "\n",
    "\n",
    "def string_to_one_hot_next(ont_hot_representation):\n",
    "    out = []\n",
    "    for x in ont_hot_representation:\n",
    "        temp = np.zeros(x.shape, dtype=np.uint8)\n",
    "        temp[0:-1] = x[1:]\n",
    "        out.append(temp)\n",
    "    return out\n",
    "\n",
    "\n",
    "def next_representation(sequence_string, alphabet, TRANSITIONS):\n",
    "    next_representation = np.zeros((len(sequence_string), len(alphabet)), dtype=np.uint8)\n",
    "    state = 0\n",
    "    for idx, s in enumerate(sequence_string[:-1]):\n",
    "        tss = TRANSITIONS[state]\n",
    "        for ts in tss:\n",
    "            next_representation[idx, alphabet.index(ts[0])] = 1\n",
    "            if ts[0] == sequence_string[idx + 1]:\n",
    "                state = ts[1]\n",
    "    return next_representation"
   ]
  },
  {
   "cell_type": "markdown",
   "metadata": {},
   "source": [
    "# Training\n",
    "\n",
    "##### Be careful with the time steps\n",
    "\n",
    "- The last letter in the sequence is not used for training\n",
    "- The backpropagation through time step should use *corresponding* historical hidden activations and external input"
   ]
  },
  {
   "cell_type": "code",
   "execution_count": 8,
   "metadata": {
    "collapsed": false
   },
   "outputs": [
    {
     "name": "stdout",
     "output_type": "stream",
     "text": [
      "J:4999/0.0100556704739"
     ]
    },
    {
     "data": {
      "text/plain": [
       "[<matplotlib.lines.Line2D at 0x7f2ab1a59e10>]"
      ]
     },
     "execution_count": 8,
     "metadata": {},
     "output_type": "execute_result"
    },
    {
     "name": "stdout",
     "output_type": "stream",
     "text": [
      "\n"
     ]
    },
    {
     "data": {
      "image/png": "[encoded data removed]",
      "text/plain": [
       "<matplotlib.figure.Figure at 0x7f2ab480d050>"
      ]
     },
     "metadata": {},
     "output_type": "display_data"
    }
   ],
   "source": [
    "#######--------------------------\n",
    "import sys\n",
    "import matplotlib.pyplot as plt\n",
    "%matplotlib inline\n",
    "\n",
    "input_size = 7\n",
    "hidden_size = 7\n",
    "W_x = np.random.rand(hidden_size, input_size) * 2 - 1\n",
    "W_h = np.random.rand(hidden_size, hidden_size) * 2 - 1\n",
    "W_x_grad = np.zeros((hidden_size, input_size))\n",
    "W_h_grad = np.zeros((hidden_size, hidden_size))\n",
    "\n",
    "delta_output = np.zeros((hidden_size, 1))\n",
    "delta_previous = np.zeros((hidden_size, 1))\n",
    "\n",
    "h = np.zeros((hidden_size, 1))\n",
    "net = np.zeros((hidden_size, 1))\n",
    "z = np.zeros((hidden_size, 1))\n",
    "y = np.zeros((hidden_size, 1))\n",
    "\n",
    "alpha = 0.1\n",
    "Jarr = []\n",
    "nb_train_sequence = 5000\n",
    "for seq_idx in range(nb_train_sequence):\n",
    "    reber_string = make_reber()\n",
    "    input_arr, target_arr = string_to_one_hot_array(reber_string)\n",
    "    sequence_length = input_arr.shape[0]\n",
    "    \n",
    "    net_history = np.zeros((sequence_length, hidden_size, 1))\n",
    "    h_history = np.zeros((sequence_length, hidden_size, 1))\n",
    "    cost_sequence = 0\n",
    "    \n",
    "    ######\n",
    "    ###  Notice: TThe last letter in sequence don't need to be trained, and the he last target is all zero which is not for training  ###\n",
    "    ###  Thus the boundary is set to (sequence_length-1) ###\n",
    "    ######\n",
    "    for time_step in range(0, sequence_length-1):\n",
    "        # print time_step\n",
    "        # assert(0)\n",
    "        x = np.expand_dims(input_arr[time_step], axis=1)\n",
    "        d = np.expand_dims(target_arr[time_step], axis=1)\n",
    "\n",
    "        # store hidden input for this time step(to calculate deltaW_h)\n",
    "        h_history[time_step, :] = np.copy(h)\n",
    "        \n",
    "        # feedforward\n",
    "        net[:], h[:] = fc(W_x, W_h, x, h)\n",
    "\n",
    "        # store output (to calculate df(s))\n",
    "        net_history[time_step, :] = np.copy(net)\n",
    "\n",
    "        error = h - d\n",
    "        cost_sequence += 0.5 * np.sum(error ** 2)\n",
    "        # print cost_sequence\n",
    "        # assert(0)\n",
    "        # delta at this time step\n",
    "        delta_output[:] = df(net_history[time_step]) * error\n",
    "\n",
    "        W_x_grad = np.outer(delta_output, x)\n",
    "        W_h_grad = np.outer(delta_output, h_history[time_step])\n",
    "        W_x -= alpha * W_x_grad\n",
    "        W_h -= alpha * W_h_grad\n",
    "\n",
    "        # Back propagation through time (propagation delta of current time to previous time steps)\n",
    "        for time_step_prev in range(time_step-1, 0, -1):\n",
    "            # standard back propagation\n",
    "            delta_previous = bp(delta_output, W_h, net_history[time_step_prev])\n",
    "            # external input of that time\n",
    "            W_x_grad = np.outer(delta_previous, np.expand_dims(input_arr[time_step_prev], axis=1))\n",
    "            # hidden input of that time\n",
    "            W_h_grad = np.outer(delta_previous, h_history[time_step_prev])\n",
    "            W_x -= alpha * W_x_grad\n",
    "            W_h -= alpha * W_h_grad\n",
    "\n",
    "            delta_output = delta_previous\n",
    "            # h[:] = 0\n",
    "\n",
    "            # if time_step==3: assert(0)\n",
    "    J_avg = cost_sequence * 1.0 / sequence_length\n",
    "    Jarr.append(J_avg)\n",
    "    print '\\rJ:{}/{}'.format(seq_idx, J_avg),\n",
    "    sys.stdout.flush()\n",
    "\n",
    "plt.plot(Jarr)"
   ]
  },
  {
   "cell_type": "markdown",
   "metadata": {},
   "source": [
    "# Test"
   ]
  },
  {
   "cell_type": "code",
   "execution_count": 18,
   "metadata": {
    "collapsed": false
   },
   "outputs": [
    {
     "name": "stdout",
     "output_type": "stream",
     "text": [
      "correct:500/500\n"
     ]
    }
   ],
   "source": [
    "nb_test_sequence = 500\n",
    "correctNum = 0\n",
    "for seq_idx in range(nb_test_sequence):\n",
    "    reber_string = make_reber()\n",
    "    input_arr, target_arr = string_to_one_hot_array(reber_string)\n",
    "    sequence_length = input_arr.shape[0]\n",
    "    \n",
    "    \n",
    "    flag = True\n",
    "    for time_step in range(0, sequence_length-1):\n",
    "        # print time_step\n",
    "        # assert(0)\n",
    "        x = np.expand_dims(input_arr[time_step], axis=1)\n",
    "        d = np.expand_dims(target_arr[time_step], axis=1)\n",
    "        \n",
    "        # feedforward\n",
    "        net[:], h[:] = fc(W_x, W_h, x, h)\n",
    "\n",
    "        yThreshold = np.zeros(h.shape)\n",
    "        yThreshold[np.where(h>0.5)] = 1\n",
    "        t = target_arr[time_step, :]\n",
    "        # print h\n",
    "        # print t\n",
    "        if np.sum(np.squeeze(yThreshold) - t)!=0:\n",
    "            flag = False\n",
    "    if flag==True:\n",
    "        correctNum += 1\n",
    "        \n",
    "print('correct:{}/{}'.format(correctNum, nb_test_sequence))"
   ]
  }
 ],
 "metadata": {
  "kernelspec": {
   "display_name": "Python [conda root]",
   "language": "python",
   "name": "conda-root-py"
  },
  "language_info": {
   "codemirror_mode": {
    "name": "ipython",
    "version": 2
   },
   "file_extension": ".py",
   "mimetype": "text/x-python",
   "name": "python",
   "nbconvert_exporter": "python",
   "pygments_lexer": "ipython2",
   "version": "2.7.12"
  }
 },
 "nbformat": 4,
 "nbformat_minor": 1
}
