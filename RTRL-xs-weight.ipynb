{
 "cells": [
  {
   "cell_type": "markdown",
   "metadata": {},
   "source": [
    "### RTRL for <font color=#FF0000>reverse input</font> (with weights on output and input)\n",
    "while _input_ is **0**, output **1**, and input is **1** then output **0**."
   ]
  },
  {
   "cell_type": "markdown",
   "metadata": {},
   "source": [
    "***"
   ]
  },
  {
   "cell_type": "markdown",
   "metadata": {},
   "source": [
    "#### feedforward\n",
    "$$s(t) = W_{x} \\cdot x(t-1) + W_{y} \\cdot y(t-1)$$"
   ]
  },
  {
   "cell_type": "markdown",
   "metadata": {},
   "source": [
    "$$y(t) = f[s(t)]$$"
   ]
  },
  {
   "cell_type": "markdown",
   "metadata": {},
   "source": [
    "#### Cost function:\n",
    "$$J = \\frac{1}{2} [y(t) - d(t)]^{2} $$"
   ]
  },
  {
   "cell_type": "markdown",
   "metadata": {},
   "source": [
    "#### Calculate gradient\n",
    "$$\\frac{\\partial{J}} {\\partial{W_{*}}} = [y(t) - d(t)] \\cdot \\frac{ \\partial{y(t)} }{ \\partial{W_{*}} }$$"
   ]
  },
  {
   "cell_type": "markdown",
   "metadata": {},
   "source": [
    "\\begin{equation}\n",
    "  \\left\\{\n",
    "   \\begin{aligned}\n",
    "   \\frac{\\partial{y(t)}} {\\partial{W_{x}}} =  f\\prime [s(t)] \\left( \\frac{ \\partial{y(t-1)} }{ \\partial{W_{x}} }  + x(t-1)\\right) \\\\\n",
    "   \\frac{\\partial{y(t)}} {\\partial{W_{y}}} =  f\\prime [s(t)] \\left( \\frac{ \\partial{y(t-1)} }{ \\partial{W_{y}} } + y(t-1)\\right) \\\\\n",
    "   \\end{aligned}\n",
    "   \\right.\n",
    "  \\end{equation}"
   ]
  },
  {
   "cell_type": "markdown",
   "metadata": {},
   "source": [
    "#### Assume\n",
    "\\begin{equation}\n",
    "  \\left\\{\n",
    "   \\begin{aligned}\n",
    "   P_{x}(t) = \\frac{\\partial{y(t)}} {\\partial{W_{x}}} \\\\\n",
    "   P_{y}(t) = \\frac{\\partial{y(t)}} {\\partial{W_{y}}} \\\\\n",
    "   \\end{aligned}\n",
    "   \\right.\n",
    "  \\end{equation}"
   ]
  },
  {
   "cell_type": "markdown",
   "metadata": {},
   "source": [
    "#### Then we have\n",
    "\\begin{equation}\n",
    "  \\left\\{\n",
    "   \\begin{aligned}\n",
    "   P_{x}(t) =  f\\prime [s(t)] \\left( P_{x}(t-1)  + x(t-1)\\right) \\\\\n",
    "   P_{y}(t) =  f\\prime [s(t)] \\left( P_{y}(t-1) + y(t-1)\\right) \\\\\n",
    "   \\end{aligned}\n",
    "   \\right.\n",
    "  \\end{equation}\n"
   ]
  },
  {
   "cell_type": "markdown",
   "metadata": {},
   "source": [
    "#### Error at time *t*:\n",
    "$$e(t) = y(t)-d(t)$$"
   ]
  },
  {
   "cell_type": "markdown",
   "metadata": {},
   "source": [
    "#### Update rule:\n",
    " \\begin{equation}\n",
    "  \\left\\{\n",
    "   \\begin{aligned}\n",
    "   W_{x} = W_{x} - alpha \\cdot e(t) \\cdot P_{x}(t) \\\\\n",
    "   W_{y} = W_{y} - alpha \\cdot e(t) \\cdot P_{y}(t) \\\\\n",
    "   \\end{aligned}\n",
    "   \\right.\n",
    "  \\end{equation}"
   ]
  },
  {
   "cell_type": "markdown",
   "metadata": {},
   "source": [
    "### Code"
   ]
  },
  {
   "cell_type": "code",
   "execution_count": 115,
   "metadata": {
    "collapsed": true
   },
   "outputs": [],
   "source": [
    "import numpy as np\n",
    "import matplotlib.pyplot as plt\n",
    "%matplotlib inline\n",
    "\n",
    "# functions\n",
    "f = lambda x: 1 / (1+np.exp(-x))\n",
    "df = lambda x: f(x) * (1-f(x))"
   ]
  },
  {
   "cell_type": "code",
   "execution_count": 2,
   "metadata": {
    "collapsed": false
   },
   "outputs": [],
   "source": [
    "def generate_data():\n",
    "    if np.random.rand()>0.8:\n",
    "        return (0, 1)\n",
    "    else:\n",
    "        return (1, 0)"
   ]
  },
  {
   "cell_type": "code",
   "execution_count": 113,
   "metadata": {
    "collapsed": false,
    "scrolled": false
   },
   "outputs": [
    {
     "name": "stdout",
     "output_type": "stream",
     "text": [
      "correct:100/100\n"
     ]
    },
    {
     "data": {
      "image/png": "[encoded data removed]",
      "text/plain": [
       "<matplotlib.figure.Figure at 0x7fc4e341e510>"
      ]
     },
     "metadata": {},
     "output_type": "display_data"
    }
   ],
   "source": [
    "input_units = 1\n",
    "hidden_units = 1\n",
    "\n",
    "s = np.zeros((hidden_units, 1))\n",
    "\n",
    "W_s = np.random.rand(hidden_units, 1) * 2 -1\n",
    "W_x = np.random.rand(input_units, 1) * 2 -1\n",
    "\n",
    "P_s = np.zeros((hidden_units, 1))\n",
    "P_x = np.zeros((input_units, 1))\n",
    "\n",
    "train_length = 8000\n",
    "alpha = 0.1\n",
    "costArr = []\n",
    "\n",
    "for i in range(train_length):\n",
    "    (data_x, data_d) = generate_data()\n",
    "\n",
    "    net = W_s*s + W_x*data_x\n",
    "    \n",
    "    s_next = f(net)\n",
    "    \n",
    "    P_s[:] = df(net) * [W_s * P_s + s]\n",
    "    P_x[:] = df(net) * [W_s * P_x + data_x]\n",
    "\n",
    "    error = s_next - data_d\n",
    "    \n",
    "    W_s -= alpha * P_s * error\n",
    "    W_x -= alpha * P_x * error\n",
    "    s = s_next\n",
    "    \n",
    "    cost = 0.5 * error**2\n",
    "    costArr.append(cost[0][0])\n",
    "    \n",
    "plt.plot(costArr)\n",
    "\n",
    "\n",
    "# Test\n",
    "test_length = 100\n",
    "correct = 0\n",
    "s = np.zeros((hidden_units, 1))\n",
    "for i in range(test_length):\n",
    "    (data_x, data_d) = generate_data()\n",
    "\n",
    "    net = W_s*s + W_x*data_x  \n",
    "    s_next = f(net)\n",
    "    \n",
    "    s = s_next\n",
    "    \n",
    "    predict = int(s_next[0][0]*2)\n",
    "    \n",
    "    # print predict == data_d, data_x, data_d, predict, s_next[0][0]\n",
    "    if predict==data_d:\n",
    "        correct += 1\n",
    "\n",
    "print \"correct:{}/{}\".format(correct, test_length)"
   ]
  },
  {
   "cell_type": "code",
   "execution_count": 65,
   "metadata": {
    "collapsed": false,
    "scrolled": true
   },
   "outputs": [
    {
     "name": "stdout",
     "output_type": "stream",
     "text": [
      "correct:100/100\n"
     ]
    }
   ],
   "source": [
    "test_length = 100\n",
    "correct = 0\n",
    "# s = np.zeros((hidden_units, 1))\n",
    "for i in range(test_length):\n",
    "    (data_x, data_d) = generate_data()\n",
    "\n",
    "    net = W_s*s + W_x*data_x  # np.vstack((s, data_x, 1))\n",
    "    \n",
    "    s_next = f(net)\n",
    "    \n",
    "    s = s_next\n",
    "    \n",
    "    predict = int(s_next[0][0]*2)\n",
    "    \n",
    "    # print predict == data_d, data_x, data_d, predict, s_next[0][0]\n",
    "    \n",
    "    if predict==data_d:\n",
    "        correct += 1\n",
    "\n",
    "print \"correct:{}/{}\".format(correct, test_length)"
   ]
  },
  {
   "cell_type": "code",
   "execution_count": 66,
   "metadata": {
    "collapsed": false
   },
   "outputs": [
    {
     "name": "stdout",
     "output_type": "stream",
     "text": [
      "[[ 0.06997933]]\n",
      "[[-1.27529364]]\n"
     ]
    }
   ],
   "source": [
    "print W_s\n",
    "print W_x"
   ]
  }
 ],
 "metadata": {
  "anaconda-cloud": {},
  "kernelspec": {
   "display_name": "Python [conda root]",
   "language": "python",
   "name": "conda-root-py"
  },
  "language_info": {
   "codemirror_mode": {
    "name": "ipython",
    "version": 2
   },
   "file_extension": ".py",
   "mimetype": "text/x-python",
   "name": "python",
   "nbconvert_exporter": "python",
   "pygments_lexer": "ipython2",
   "version": "2.7.12"
  }
 },
 "nbformat": 4,
 "nbformat_minor": 1
}
